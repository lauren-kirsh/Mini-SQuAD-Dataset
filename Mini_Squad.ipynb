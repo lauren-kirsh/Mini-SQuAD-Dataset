{
 "cells": [
  {
   "cell_type": "code",
   "execution_count": 2,
   "id": "8b6c9dc1-63b6-4884-8154-83c818469457",
   "metadata": {},
   "outputs": [],
   "source": [
    "import json\n",
    "import random"
   ]
  },
  {
   "cell_type": "code",
   "execution_count": 3,
   "id": "54169826-0674-4816-8f1a-e9aec028eee4",
   "metadata": {},
   "outputs": [],
   "source": [
    "# Load the full SQuAD dataset\n",
    "with open(\"./datasets/squad_train-v2.0.json\", \"r\") as f:\n",
    "    squad_data = json.load(f)"
   ]
  },
  {
   "cell_type": "code",
   "execution_count": 4,
   "id": "a35e9c06-6209-43aa-bd1b-64a057989ee5",
   "metadata": {},
   "outputs": [],
   "source": [
    "# Specify the number of examples for MiniSQuAD\n",
    "num_examples = 2\n",
    "\n",
    "# Sample a subset of examples to create MiniSQuAD\n",
    "mini_squad_data = random.sample(squad_data[\"data\"], num_examples)\n",
    "\n",
    "# Save MiniSQuAD to a new JSON file\n",
    "with open(\"./datasets/train-v1.1.json\", \"w\") as f:\n",
    "    json.dump({\"data\": mini_squad_data}, f)"
   ]
  },
  {
   "cell_type": "code",
   "execution_count": null,
   "id": "c6b9159e-6005-4d09-895a-2b0c8d2c9dfa",
   "metadata": {},
   "outputs": [],
   "source": []
  }
 ],
 "metadata": {
  "kernelspec": {
   "display_name": "Python 3 (ipykernel)",
   "language": "python",
   "name": "python3"
  },
  "language_info": {
   "codemirror_mode": {
    "name": "ipython",
    "version": 3
   },
   "file_extension": ".py",
   "mimetype": "text/x-python",
   "name": "python",
   "nbconvert_exporter": "python",
   "pygments_lexer": "ipython3",
   "version": "3.11.7"
  }
 },
 "nbformat": 4,
 "nbformat_minor": 5
}
